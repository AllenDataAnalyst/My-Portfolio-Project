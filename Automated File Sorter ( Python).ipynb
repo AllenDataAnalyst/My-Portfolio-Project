{
 "cells": [
  {
   "cell_type": "code",
   "execution_count": 11,
   "id": "0cfdfc99",
   "metadata": {},
   "outputs": [
    {
     "name": "stdout",
     "output_type": "stream",
     "text": [
      "Moved calendar.csv to CSV Files folder.\n",
      "Moved pic01.jpg to JPG Files folder.\n",
      "Moved pic02.jpg to JPG Files folder.\n",
      "Moved README.txt to TXT Files folder.\n"
     ]
    }
   ],
   "source": [
    "import os\n",
    "import shutil\n",
    "\n",
    "# Set the new working directory path\n",
    "new_cwd = r'C:/Users/asus/Downloads/FILES ONline/my_folder/'\n",
    "\n",
    "# Change the working directory to the new path\n",
    "os.chdir(new_cwd)\n",
    "\n",
    "# Loop through all the files in the current working directory\n",
    "for filename in os.listdir(new_cwd):  \n",
    "    # Ignore directories\n",
    "    if os.path.isdir(filename):\n",
    "        continue\n",
    "    \n",
    "    # Determine the file extension\n",
    "    file_ext = os.path.splitext(filename)[1]\n",
    "    \n",
    "    # Determine the folder name based on the file extension\n",
    "    folder_name = file_ext[1:].upper() + \" Files\"\n",
    "    \n",
    "    # Create the folder if it doesn't exist\n",
    "    folder_path = os.path.join(new_cwd, folder_name)  \n",
    "    if not os.path.exists(folder_path):\n",
    "        os.mkdir(folder_path)\n",
    "    \n",
    "    # Move the file to the folder\n",
    "    src_path = os.path.join(new_cwd, filename)  \n",
    "    dst_path = os.path.join(folder_path, filename)\n",
    "    shutil.move(src_path, dst_path)\n",
    "    print(f\"Moved {filename} to {folder_name} folder.\")"
   ]
  },
  {
   "cell_type": "code",
   "execution_count": null,
   "id": "c2ef9546",
   "metadata": {},
   "outputs": [],
   "source": []
  }
 ],
 "metadata": {
  "kernelspec": {
   "display_name": "Python 3 (ipykernel)",
   "language": "python",
   "name": "python3"
  },
  "language_info": {
   "codemirror_mode": {
    "name": "ipython",
    "version": 3
   },
   "file_extension": ".py",
   "mimetype": "text/x-python",
   "name": "python",
   "nbconvert_exporter": "python",
   "pygments_lexer": "ipython3",
   "version": "3.9.13"
  }
 },
 "nbformat": 4,
 "nbformat_minor": 5
}
